{
  "nbformat": 4,
  "nbformat_minor": 0,
  "metadata": {
    "colab": {
      "provenance": [],
      "authorship_tag": "ABX9TyPKyPIcvt51KOqWDnAdwazC",
      "include_colab_link": true
    },
    "kernelspec": {
      "name": "python3",
      "display_name": "Python 3"
    },
    "language_info": {
      "name": "python"
    }
  },
  "cells": [
    {
      "cell_type": "markdown",
      "metadata": {
        "id": "view-in-github",
        "colab_type": "text"
      },
      "source": [
        "<a href=\"https://colab.research.google.com/github/swapnilbilgoji/Email-Format-Verification/blob/main/chisquare_test.ipynb\" target=\"_parent\"><img src=\"https://colab.research.google.com/assets/colab-badge.svg\" alt=\"Open In Colab\"/></a>"
      ]
    },
    {
      "cell_type": "markdown",
      "source": [
        "Chi square test with python"
      ],
      "metadata": {
        "id": "6yelpOWtl5ie"
      }
    },
    {
      "cell_type": "code",
      "source": [
        "import scipy.stats as stats\n",
        "import numpy as np"
      ],
      "metadata": {
        "id": "aLnuwCO4mE_L"
      },
      "execution_count": 1,
      "outputs": []
    },
    {
      "cell_type": "code",
      "source": [
        "expected_data=[9,8,7,5,3,2,6,1,4,8]\n",
        "observed_data=[8,7,1,3,2,6,5,4,8,9]"
      ],
      "metadata": {
        "id": "T90qDCWVmlSK"
      },
      "execution_count": 11,
      "outputs": []
    },
    {
      "cell_type": "code",
      "source": [
        "sum(expected_data),sum(observed_data)"
      ],
      "metadata": {
        "colab": {
          "base_uri": "https://localhost:8080/"
        },
        "id": "aooVlCXTms_T",
        "outputId": "a662c898-d54d-4de9-f24c-a7796423df87"
      },
      "execution_count": 12,
      "outputs": [
        {
          "output_type": "execute_result",
          "data": {
            "text/plain": [
              "(53, 53)"
            ]
          },
          "metadata": {},
          "execution_count": 12
        }
      ]
    },
    {
      "cell_type": "code",
      "source": [
        "chisquare_test_stats,p_value=stats.chisquare(observed_data,expected_data)"
      ],
      "metadata": {
        "id": "IIRh5Ms_m0DZ"
      },
      "execution_count": 13,
      "outputs": []
    },
    {
      "cell_type": "code",
      "source": [
        "chisquare_test_stats,p_value"
      ],
      "metadata": {
        "colab": {
          "base_uri": "https://localhost:8080/"
        },
        "id": "K54YdJC7nJcr",
        "outputId": "5a105977-9666-4404-adaa-d614272cafee"
      },
      "execution_count": 14,
      "outputs": [
        {
          "output_type": "execute_result",
          "data": {
            "text/plain": [
              "(27.803968253968254, 0.0010285164820617962)"
            ]
          },
          "metadata": {},
          "execution_count": 14
        }
      ]
    },
    {
      "cell_type": "code",
      "source": [
        "significance_value=0.05"
      ],
      "metadata": {
        "id": "ik0Twsz5oCWu"
      },
      "execution_count": 15,
      "outputs": []
    },
    {
      "cell_type": "code",
      "source": [
        "dof=len(expected_data)-1\n",
        "print(dof)"
      ],
      "metadata": {
        "colab": {
          "base_uri": "https://localhost:8080/"
        },
        "id": "N67oNMR-oLHS",
        "outputId": "72a5e8e7-9608-4371-c9cf-16237067794c"
      },
      "execution_count": 16,
      "outputs": [
        {
          "output_type": "stream",
          "name": "stdout",
          "text": [
            "9\n"
          ]
        }
      ]
    },
    {
      "cell_type": "code",
      "source": [
        "critical_value=stats.chi2.ppf(1-significance_value,dof)"
      ],
      "metadata": {
        "id": "QCeblaBPoUlN"
      },
      "execution_count": 17,
      "outputs": []
    },
    {
      "cell_type": "code",
      "source": [
        "critical_value"
      ],
      "metadata": {
        "colab": {
          "base_uri": "https://localhost:8080/"
        },
        "id": "Xk0KhS-EoyY9",
        "outputId": "68ed18a3-745f-48da-bdd3-e96e2604cc9c"
      },
      "execution_count": 18,
      "outputs": [
        {
          "output_type": "execute_result",
          "data": {
            "text/plain": [
              "16.918977604620448"
            ]
          },
          "metadata": {},
          "execution_count": 18
        }
      ]
    },
    {
      "cell_type": "code",
      "source": [
        "if chisquare_test_stats > critical_value:\n",
        "  print(\"Reject the null hypothesis\")\n",
        "else:\n",
        "  print(\"Accept the null hypothesis\")"
      ],
      "metadata": {
        "colab": {
          "base_uri": "https://localhost:8080/"
        },
        "id": "DD3k_T7Mo2YU",
        "outputId": "73461760-f330-4483-f48b-eb0d2ed26ea0"
      },
      "execution_count": 19,
      "outputs": [
        {
          "output_type": "stream",
          "name": "stdout",
          "text": [
            "Reject the null hypothesis\n"
          ]
        }
      ]
    },
    {
      "cell_type": "code",
      "source": [],
      "metadata": {
        "id": "oc1tULn7pX6V"
      },
      "execution_count": null,
      "outputs": []
    }
  ]
}